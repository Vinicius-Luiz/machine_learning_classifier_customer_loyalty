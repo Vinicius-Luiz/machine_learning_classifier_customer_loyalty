{
 "cells": [
  {
   "cell_type": "code",
   "execution_count": 1,
   "id": "8851f8c3",
   "metadata": {
    "_cell_guid": "b1076dfc-b9ad-4769-8c92-a6c4dae69d19",
    "_uuid": "8f2839f25d086af736a60e9eeb907d3b93b6e0e5",
    "execution": {
     "iopub.execute_input": "2023-02-21T19:06:37.575392Z",
     "iopub.status.busy": "2023-02-21T19:06:37.574642Z",
     "iopub.status.idle": "2023-02-21T19:06:37.584692Z",
     "shell.execute_reply": "2023-02-21T19:06:37.583895Z"
    },
    "papermill": {
     "duration": 0.021134,
     "end_time": "2023-02-21T19:06:37.586830",
     "exception": false,
     "start_time": "2023-02-21T19:06:37.565696",
     "status": "completed"
    },
    "tags": []
   },
   "outputs": [],
   "source": [
    "# This Python 3 environment comes with many helpful analytics libraries installed\n",
    "# It is defined by the kaggle/python Docker image: https://github.com/kaggle/docker-python\n",
    "# For example, here's several helpful packages to load\n",
    "\n",
    "import numpy as np # linear algebra\n",
    "import pandas as pd # data processing, CSV file I/O (e.g. pd.read_csv)\n",
    "from sqlite3 import connect\n",
    "\n",
    "# Input data files are available in the read-only \"../input/\" directory\n",
    "# For example, running this (by clicking run or pressing Shift+Enter) will list all files under the input directory\n",
    "\n",
    "import os\n",
    "# You can write up to 20GB to the current directory (/kaggle/working/) that gets preserved as output when you create a version using \"Save & Run All\" \n",
    "# You can also write temporary files to /kaggle/temp/, but they won't be saved outside of the current session"
   ]
  },
  {
   "cell_type": "markdown",
   "id": "3cafabe6",
   "metadata": {
    "papermill": {
     "duration": 0.002906,
     "end_time": "2023-02-21T19:06:37.593002",
     "exception": false,
     "start_time": "2023-02-21T19:06:37.590096",
     "status": "completed"
    },
    "tags": []
   },
   "source": [
    "# Objetivo do projeto\n",
    "Desenvolver um modelo capaz de **prever quais usuários têm maior probabilidade de fazer uma segunda compra em até 30 dias após a realização da primeira**. Segundo um estudo feito no passado, estes usuários possuem maior probabilidade de **fidelizar** na empresa e passar a realizar aquisições mensalmente."
   ]
  },
  {
   "cell_type": "markdown",
   "id": "d6182296",
   "metadata": {
    "papermill": {
     "duration": 0.002652,
     "end_time": "2023-02-21T19:06:37.598760",
     "exception": false,
     "start_time": "2023-02-21T19:06:37.596108",
     "status": "completed"
    },
    "tags": []
   },
   "source": [
    "# Conjunto de dados públicos de comércio eletrônico brasileiro por Olist\n",
    "Este é um conjunto de dados público de comércio eletrônico brasileiro de pedidos feitos na Olist Store. O conjunto de dados contém informações de 100 mil pedidos de 2016 a 2018 feitos em vários marketplaces no Brasil. Seus recursos permitem visualizar um pedido de várias dimensões: desde o status do pedido, preço, pagamento e desempenho do frete até a localização do cliente, atributos do produto e, finalmente, avaliações escritas pelos clientes. Também lançamos um conjunto de dados de geolocalização que relaciona os códigos postais brasileiros às coordenadas lat/lng.\n",
    "\n",
    "Estes são dados comerciais reais, foram anonimizados e as referências às empresas e parceiros no texto da revisão foram substituídas pelos nomes das grandes casas de Game of Thrones.\n",
    "\n",
    "url: www.kaggle.com/datasets/olistbr/brazilian-ecommerce"
   ]
  },
  {
   "cell_type": "markdown",
   "id": "a732eff7",
   "metadata": {
    "papermill": {
     "duration": 0.002698,
     "end_time": "2023-02-21T19:06:37.604380",
     "exception": false,
     "start_time": "2023-02-21T19:06:37.601682",
     "status": "completed"
    },
    "tags": []
   },
   "source": [
    "# Pré-processamento dos dados\n",
    "*explique como você pré-processou os dados para torná-los adequados para o uso em um modelo de machine learning. Por exemplo, você pode ter feito uma limpeza dos dados, normalizado as colunas, separado em conjuntos de treino e teste, entre outras coisas.*\n"
   ]
  },
  {
   "cell_type": "markdown",
   "id": "2b5851d9",
   "metadata": {
    "papermill": {
     "duration": 0.00268,
     "end_time": "2023-02-21T19:06:37.609840",
     "exception": false,
     "start_time": "2023-02-21T19:06:37.607160",
     "status": "completed"
    },
    "tags": []
   },
   "source": [
    "## Criando e populando o banco de dados"
   ]
  },
  {
   "cell_type": "code",
   "execution_count": 2,
   "id": "e1129bf8",
   "metadata": {
    "execution": {
     "iopub.execute_input": "2023-02-21T19:06:37.618109Z",
     "iopub.status.busy": "2023-02-21T19:06:37.617359Z",
     "iopub.status.idle": "2023-02-21T19:06:37.622033Z",
     "shell.execute_reply": "2023-02-21T19:06:37.621252Z"
    },
    "papermill": {
     "duration": 0.011692,
     "end_time": "2023-02-21T19:06:37.624406",
     "exception": false,
     "start_time": "2023-02-21T19:06:37.612714",
     "status": "completed"
    },
    "tags": []
   },
   "outputs": [],
   "source": [
    "conn   = connect('OListDB')\n",
    "cursor = conn.cursor()"
   ]
  },
  {
   "cell_type": "code",
   "execution_count": 3,
   "id": "872d745f",
   "metadata": {
    "execution": {
     "iopub.execute_input": "2023-02-21T19:06:37.632502Z",
     "iopub.status.busy": "2023-02-21T19:06:37.631847Z",
     "iopub.status.idle": "2023-02-21T19:06:46.519666Z",
     "shell.execute_reply": "2023-02-21T19:06:46.518087Z"
    },
    "papermill": {
     "duration": 8.895054,
     "end_time": "2023-02-21T19:06:46.522526",
     "exception": false,
     "start_time": "2023-02-21T19:06:37.627472",
     "status": "completed"
    },
    "tags": []
   },
   "outputs": [
    {
     "name": "stdout",
     "output_type": "stream",
     "text": [
      "[OK] olist_customers_dataset.csv TO CUSTOMERS\n",
      "[OK] olist_sellers_dataset.csv TO SELLERS\n",
      "[OK] olist_order_reviews_dataset.csv TO ORDER_REVIEWS\n",
      "[OK] olist_order_items_dataset.csv TO ORDER_ITEMS\n",
      "[OK] olist_products_dataset.csv TO PRODUCTS\n",
      "[OK] olist_geolocation_dataset.csv TO GEOLOCATION\n",
      "[OK] product_category_name_translation.csv TO PRODUCT_CATEGORY_NAME_TRANSLATION\n",
      "[OK] olist_orders_dataset.csv TO ORDERS\n",
      "[OK] olist_order_payments_dataset.csv TO ORDER_PAYMENTS\n"
     ]
    }
   ],
   "source": [
    "for dirname, _, filenames in os.walk('/kaggle/input'):\n",
    "    for filename in filenames:\n",
    "        tablename = filename.replace('.csv', '').replace('olist_', '').replace('_dataset', '').upper()\n",
    "        df = pd.read_csv(os.path.join(dirname, filename))\n",
    "        df.to_sql(tablename, conn, if_exists='replace', index=False)  \n",
    "        print(f'[OK] {filename} TO {tablename}')"
   ]
  },
  {
   "cell_type": "markdown",
   "id": "75b7132d",
   "metadata": {
    "papermill": {
     "duration": 0.003113,
     "end_time": "2023-02-21T19:06:46.529400",
     "exception": false,
     "start_time": "2023-02-21T19:06:46.526287",
     "status": "completed"
    },
    "tags": []
   },
   "source": [
    "# Análise exploratória dos dados\n",
    "*forneça uma breve análise exploratória dos dados. Isso pode incluir a distribuição das classes de destino, uma matriz de correlação entre as variáveis, visualizações de distribuições, entre outros*"
   ]
  },
  {
   "cell_type": "markdown",
   "id": "02622ad0",
   "metadata": {
    "papermill": {
     "duration": 0.003538,
     "end_time": "2023-02-21T19:06:46.536383",
     "exception": false,
     "start_time": "2023-02-21T19:06:46.532845",
     "status": "completed"
    },
    "tags": []
   },
   "source": [
    "# Modelagem\n",
    "*explique o modelo que você escolheu e por que o escolheu. Explique também os hiperparâmetros que você usou.*"
   ]
  },
  {
   "cell_type": "markdown",
   "id": "f477fbe9",
   "metadata": {
    "papermill": {
     "duration": 0.003037,
     "end_time": "2023-02-21T19:06:46.542700",
     "exception": false,
     "start_time": "2023-02-21T19:06:46.539663",
     "status": "completed"
    },
    "tags": []
   },
   "source": [
    "# Resultados\n",
    "*apresente os resultados do seu modelo, como a acurácia ou a precisão. Você pode incluir também outras métricas que sejam relevantes para o seu problema.*"
   ]
  },
  {
   "cell_type": "markdown",
   "id": "bfb6c5ae",
   "metadata": {
    "papermill": {
     "duration": 0.003018,
     "end_time": "2023-02-21T19:06:46.548974",
     "exception": false,
     "start_time": "2023-02-21T19:06:46.545956",
     "status": "completed"
    },
    "tags": []
   },
   "source": [
    "# Conclusão\n",
    "*faça uma conclusão sobre o seu projeto, destacando seus resultados e eventuais limitações ou desafios que você enfrentou durante o processo.*"
   ]
  }
 ],
 "metadata": {
  "kernelspec": {
   "display_name": "Python 3",
   "language": "python",
   "name": "python3"
  },
  "language_info": {
   "codemirror_mode": {
    "name": "ipython",
    "version": 3
   },
   "file_extension": ".py",
   "mimetype": "text/x-python",
   "name": "python",
   "nbconvert_exporter": "python",
   "pygments_lexer": "ipython3",
   "version": "3.7.12"
  },
  "papermill": {
   "default_parameters": {},
   "duration": 17.766679,
   "end_time": "2023-02-21T19:06:47.174069",
   "environment_variables": {},
   "exception": null,
   "input_path": "__notebook__.ipynb",
   "output_path": "__notebook__.ipynb",
   "parameters": {},
   "start_time": "2023-02-21T19:06:29.407390",
   "version": "2.3.4"
  }
 },
 "nbformat": 4,
 "nbformat_minor": 5
}
